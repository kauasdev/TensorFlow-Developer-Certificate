{
 "cells": [
  {
   "cell_type": "code",
   "execution_count": 1,
   "id": "65707f05",
   "metadata": {},
   "outputs": [
    {
     "name": "stderr",
     "output_type": "stream",
     "text": [
      "2023-05-19 08:50:11.985432: I tensorflow/tsl/cuda/cudart_stub.cc:28] Could not find cuda drivers on your machine, GPU will not be used.\n",
      "2023-05-19 08:50:12.027899: I tensorflow/tsl/cuda/cudart_stub.cc:28] Could not find cuda drivers on your machine, GPU will not be used.\n",
      "2023-05-19 08:50:12.028809: I tensorflow/core/platform/cpu_feature_guard.cc:182] This TensorFlow binary is optimized to use available CPU instructions in performance-critical operations.\n",
      "To enable the following instructions: AVX2 FMA, in other operations, rebuild TensorFlow with the appropriate compiler flags.\n",
      "2023-05-19 08:50:12.742662: W tensorflow/compiler/tf2tensorrt/utils/py_utils.cc:38] TF-TRT Warning: Could not find TensorRT\n"
     ]
    }
   ],
   "source": [
    "import numpy as np\n",
    "import tensorflow as tf"
   ]
  },
  {
   "cell_type": "markdown",
   "id": "ef9d78c5",
   "metadata": {},
   "source": [
    "### Axes \n",
    "\n",
    "- 0 → Row or height\n",
    "- 1 → Column or width\n",
    "- 2 → Deep"
   ]
  },
  {
   "cell_type": "markdown",
   "id": "4b2c037d",
   "metadata": {},
   "source": [
    "![Tensordot exmaple - Medium](https://miro.medium.com/v2/resize:fit:720/format:webp/1*97ZPTZEDXlR0J9WdDpQgJw.png)\n",
    "\n",
    "x (each instance along axis 1)\n",
    "y (each instance along axis 0)"
   ]
  },
  {
   "cell_type": "code",
   "execution_count": 4,
   "id": "053e08a3",
   "metadata": {},
   "outputs": [
    {
     "data": {
      "text/plain": [
       "(<tf.Tensor: shape=(2, 3), dtype=int32, numpy=\n",
       " array([[1, 2, 3],\n",
       "        [2, 3, 4]], dtype=int32)>,\n",
       " <tf.Tensor: shape=(2, 3), dtype=int32, numpy=\n",
       " array([[4, 5, 6],\n",
       "        [5, 6, 7]], dtype=int32)>)"
      ]
     },
     "execution_count": 4,
     "metadata": {},
     "output_type": "execute_result"
    }
   ],
   "source": [
    "x = tf.constant([[1, 2, 3],\n",
    "                [2, 3 ,4]])\n",
    "y = tf.constant([[4, 5, 6],\n",
    "                 [5, 6, 7]])\n",
    "\n",
    "x, y"
   ]
  },
  {
   "cell_type": "code",
   "execution_count": 5,
   "id": "aa706885",
   "metadata": {},
   "outputs": [
    {
     "data": {
      "text/plain": [
       "<tf.Tensor: shape=(3, 2), dtype=int32, numpy=\n",
       "array([[4, 5],\n",
       "       [5, 6],\n",
       "       [6, 7]], dtype=int32)>"
      ]
     },
     "execution_count": 5,
     "metadata": {},
     "output_type": "execute_result"
    }
   ],
   "source": [
    "tf.transpose(y)"
   ]
  },
  {
   "cell_type": "code",
   "execution_count": 8,
   "id": "4889ad65",
   "metadata": {},
   "outputs": [
    {
     "data": {
      "text/plain": [
       "<tf.Tensor: shape=(2, 2), dtype=int32, numpy=\n",
       "array([[32, 38],\n",
       "       [47, 56]], dtype=int32)>"
      ]
     },
     "execution_count": 8,
     "metadata": {},
     "output_type": "execute_result"
    }
   ],
   "source": [
    "tf.tensordot(x, tf.transpose(y), axes=1)"
   ]
  },
  {
   "cell_type": "code",
   "execution_count": 9,
   "id": "7461b152",
   "metadata": {},
   "outputs": [
    {
     "data": {
      "text/plain": [
       "<tf.Tensor: shape=(2, 2), dtype=int32, numpy=\n",
       "array([[32, 38],\n",
       "       [47, 56]], dtype=int32)>"
      ]
     },
     "execution_count": 9,
     "metadata": {},
     "output_type": "execute_result"
    }
   ],
   "source": [
    "tf.tensordot(x, tf.transpose(y), axes=[[1], [0]])"
   ]
  },
  {
   "cell_type": "code",
   "execution_count": 10,
   "id": "16cdd88a",
   "metadata": {},
   "outputs": [
    {
     "data": {
      "text/plain": [
       "<tf.Tensor: shape=(2, 3, 3, 2), dtype=int32, numpy=\n",
       "array([[[[ 4,  5],\n",
       "         [ 5,  6],\n",
       "         [ 6,  7]],\n",
       "\n",
       "        [[ 8, 10],\n",
       "         [10, 12],\n",
       "         [12, 14]],\n",
       "\n",
       "        [[12, 15],\n",
       "         [15, 18],\n",
       "         [18, 21]]],\n",
       "\n",
       "\n",
       "       [[[ 8, 10],\n",
       "         [10, 12],\n",
       "         [12, 14]],\n",
       "\n",
       "        [[12, 15],\n",
       "         [15, 18],\n",
       "         [18, 21]],\n",
       "\n",
       "        [[16, 20],\n",
       "         [20, 24],\n",
       "         [24, 28]]]], dtype=int32)>"
      ]
     },
     "execution_count": 10,
     "metadata": {},
     "output_type": "execute_result"
    }
   ],
   "source": [
    "tf.tensordot(x, tf.transpose(y), axes=0)"
   ]
  },
  {
   "cell_type": "code",
   "execution_count": 11,
   "id": "0c4a5d8b",
   "metadata": {},
   "outputs": [
    {
     "data": {
      "text/plain": [
       "(<tf.Tensor: shape=(2, 3), dtype=int32, numpy=\n",
       " array([[1, 2, 3],\n",
       "        [2, 3, 4]], dtype=int32)>,\n",
       " <tf.Tensor: shape=(3, 2), dtype=int32, numpy=\n",
       " array([[4, 5],\n",
       "        [5, 6],\n",
       "        [6, 7]], dtype=int32)>)"
      ]
     },
     "execution_count": 11,
     "metadata": {},
     "output_type": "execute_result"
    }
   ],
   "source": [
    "x, tf.transpose(y)"
   ]
  },
  {
   "cell_type": "code",
   "execution_count": 19,
   "id": "789c90c8",
   "metadata": {},
   "outputs": [
    {
     "data": {
      "text/plain": [
       "<tf.Tensor: shape=(3, 3), dtype=int32, numpy=\n",
       "array([[14, 17, 20],\n",
       "       [23, 28, 33],\n",
       "       [32, 39, 46]], dtype=int32)>"
      ]
     },
     "execution_count": 19,
     "metadata": {},
     "output_type": "execute_result"
    }
   ],
   "source": [
    "tf.tensordot(x, tf.transpose(y), axes=[[0], [1]])"
   ]
  },
  {
   "cell_type": "code",
   "execution_count": 44,
   "id": "25cf1353",
   "metadata": {},
   "outputs": [
    {
     "name": "stdout",
     "output_type": "stream",
     "text": [
      "\n",
      "x (axes 0) -> [1 2]\n",
      "y (axes 1) -> [4 5]\n",
      "\n",
      "1 * 4 + 2 * 5 = 14\n",
      "\n"
     ]
    }
   ],
   "source": [
    "print(f'''\n",
    "x (axes 0) -> {x[:, 0]}\n",
    "y (axes 1) -> {tf.transpose(y)[0]}\n",
    "\n",
    "1 * 4 + 2 * 5 = 14\n",
    "''')"
   ]
  },
  {
   "cell_type": "code",
   "execution_count": 47,
   "id": "9f90fdd2",
   "metadata": {},
   "outputs": [
    {
     "name": "stdout",
     "output_type": "stream",
     "text": [
      "14\n",
      "23\n",
      "32\n"
     ]
    }
   ],
   "source": [
    "print(1 * 4 + 2 * 5)\n",
    "print(2 * 4 + 3 * 5)\n",
    "print(3 * 4 + 4 * 5)"
   ]
  },
  {
   "cell_type": "code",
   "execution_count": 49,
   "id": "2f8046fe",
   "metadata": {},
   "outputs": [
    {
     "data": {
      "text/plain": [
       "(<tf.Tensor: shape=(2, 3), dtype=int32, numpy=\n",
       " array([[1, 2, 3],\n",
       "        [2, 3, 4]], dtype=int32)>,\n",
       " <tf.Tensor: shape=(3, 2), dtype=int32, numpy=\n",
       " array([[4, 5],\n",
       "        [5, 6],\n",
       "        [6, 7]], dtype=int32)>)"
      ]
     },
     "execution_count": 49,
     "metadata": {},
     "output_type": "execute_result"
    }
   ],
   "source": [
    "x, tf.transpose(y)"
   ]
  },
  {
   "cell_type": "code",
   "execution_count": 48,
   "id": "f6ce9ff1",
   "metadata": {},
   "outputs": [
    {
     "data": {
      "text/plain": [
       "<tf.Tensor: shape=(3, 3), dtype=int32, numpy=\n",
       "array([[14, 17, 20],\n",
       "       [23, 28, 33],\n",
       "       [32, 39, 46]], dtype=int32)>"
      ]
     },
     "execution_count": 48,
     "metadata": {},
     "output_type": "execute_result"
    }
   ],
   "source": [
    "tf.tensordot(x, tf.transpose(y), axes=[[0], [1]])"
   ]
  },
  {
   "cell_type": "code",
   "execution_count": 54,
   "id": "3aa83d31",
   "metadata": {},
   "outputs": [
    {
     "data": {
      "text/plain": [
       "<tf.Tensor: shape=(3, 3), dtype=int32, numpy=\n",
       "array([[14, 17, 20],\n",
       "       [23, 28, 33],\n",
       "       [32, 39, 46]], dtype=int32)>"
      ]
     },
     "execution_count": 54,
     "metadata": {},
     "output_type": "execute_result"
    }
   ],
   "source": [
    "x_y_tensordot = tf.constant([\n",
    "    [1*4 + 2*5, 1*5 + 2*6, 1*6 + 2*7],\n",
    "    [2*4 + 3*5, 2*5 + 3*6, 2*6 + 3*7],\n",
    "    [3*4 + 4*5, 3*5 + 4*6, 3*6 + 4*7]\n",
    "])\n",
    "\n",
    "x_y_tensordot"
   ]
  },
  {
   "cell_type": "code",
   "execution_count": 55,
   "id": "6636ae5a",
   "metadata": {},
   "outputs": [
    {
     "data": {
      "text/plain": [
       "<tf.Tensor: shape=(3, 3), dtype=bool, numpy=\n",
       "array([[ True,  True,  True],\n",
       "       [ True,  True,  True],\n",
       "       [ True,  True,  True]])>"
      ]
     },
     "execution_count": 55,
     "metadata": {},
     "output_type": "execute_result"
    }
   ],
   "source": [
    "x_y_tensordot == tf.tensordot(x, tf.transpose(y), axes=[[0], [1]])"
   ]
  },
  {
   "cell_type": "markdown",
   "id": "e06aae82",
   "metadata": {},
   "source": [
    "[[14, 17, 20] -> 1 column of x * all rows of y <br>\n",
    "[23, 28, 33] -> 2 column of x * all rows of y <br>\n",
    "[32, 39, 46]] -> 3 column of x * all rows of y <br>"
   ]
  }
 ],
 "metadata": {
  "kernelspec": {
   "display_name": "Python 3 (ipykernel)",
   "language": "python",
   "name": "python3"
  },
  "language_info": {
   "codemirror_mode": {
    "name": "ipython",
    "version": 3
   },
   "file_extension": ".py",
   "mimetype": "text/x-python",
   "name": "python",
   "nbconvert_exporter": "python",
   "pygments_lexer": "ipython3",
   "version": "3.10.6"
  }
 },
 "nbformat": 4,
 "nbformat_minor": 5
}
