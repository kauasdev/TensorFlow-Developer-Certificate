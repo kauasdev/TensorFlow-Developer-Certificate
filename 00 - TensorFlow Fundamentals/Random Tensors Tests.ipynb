{
 "cells": [
  {
   "cell_type": "code",
   "execution_count": 1,
   "id": "fb36f29f",
   "metadata": {},
   "outputs": [
    {
     "name": "stderr",
     "output_type": "stream",
     "text": [
      "2023-05-13 10:11:54.411018: I tensorflow/tsl/cuda/cudart_stub.cc:28] Could not find cuda drivers on your machine, GPU will not be used.\n",
      "2023-05-13 10:11:54.453779: I tensorflow/tsl/cuda/cudart_stub.cc:28] Could not find cuda drivers on your machine, GPU will not be used.\n",
      "2023-05-13 10:11:54.454372: I tensorflow/core/platform/cpu_feature_guard.cc:182] This TensorFlow binary is optimized to use available CPU instructions in performance-critical operations.\n",
      "To enable the following instructions: AVX2 FMA, in other operations, rebuild TensorFlow with the appropriate compiler flags.\n",
      "2023-05-13 10:11:55.283093: W tensorflow/compiler/tf2tensorrt/utils/py_utils.cc:38] TF-TRT Warning: Could not find TensorRT\n"
     ]
    }
   ],
   "source": [
    "import tensorflow as tf"
   ]
  },
  {
   "cell_type": "code",
   "execution_count": 2,
   "id": "2bca97a9",
   "metadata": {},
   "outputs": [
    {
     "name": "stdout",
     "output_type": "stream",
     "text": [
      "tf.Tensor([0.13403106], shape=(1,), dtype=float32)\n",
      "tf.Tensor([0.38594615], shape=(1,), dtype=float32)\n"
     ]
    }
   ],
   "source": [
    "print(tf.random.uniform([1]))\n",
    "print(tf.random.uniform([1]))"
   ]
  },
  {
   "cell_type": "code",
   "execution_count": 3,
   "id": "52d4ac1c",
   "metadata": {},
   "outputs": [
    {
     "name": "stdout",
     "output_type": "stream",
     "text": [
      "tf.Tensor([0.6717944], shape=(1,), dtype=float32)\n",
      "tf.Tensor([0.00298703], shape=(1,), dtype=float32)\n"
     ]
    }
   ],
   "source": [
    "print(tf.random.uniform([1]))\n",
    "print(tf.random.uniform([1]))"
   ]
  },
  {
   "cell_type": "code",
   "execution_count": 4,
   "id": "321b83eb",
   "metadata": {},
   "outputs": [
    {
     "name": "stdout",
     "output_type": "stream",
     "text": [
      "tf.Tensor([0.5380393], shape=(1,), dtype=float32)\n",
      "tf.Tensor([0.3253647], shape=(1,), dtype=float32)\n"
     ]
    }
   ],
   "source": [
    "tf.random.set_seed(1234)  # Global level seed\n",
    "print(tf.random.uniform([1]))\n",
    "print(tf.random.uniform([1]))\n",
    "\n",
    "# Se a semente de nivel global for definida os valores dos tensors serão os mesmos sempre que o programa for \n",
    "# executado, mas não serão iguais entre si, pois cada tensor usa uma semente a NÍVEL DE OPERAÇÃO aleatória e diferente\n",
    "\n",
    "tf.random.set_seed(None)"
   ]
  },
  {
   "cell_type": "code",
   "execution_count": 5,
   "id": "8e3528ce",
   "metadata": {},
   "outputs": [
    {
     "name": "stdout",
     "output_type": "stream",
     "text": [
      "tf.Tensor([0.2390374], shape=(1,), dtype=float32)\n",
      "tf.Tensor([0.22267115], shape=(1,), dtype=float32)\n"
     ]
    }
   ],
   "source": [
    "print(tf.random.uniform([1], seed=1))\n",
    "print(tf.random.uniform([1], seed=1))"
   ]
  },
  {
   "cell_type": "code",
   "execution_count": 10,
   "id": "abb032d3",
   "metadata": {},
   "outputs": [
    {
     "name": "stdout",
     "output_type": "stream",
     "text": [
      "tf.Tensor([0.1689806], shape=(1,), dtype=float32)\n",
      "tf.Tensor([0.7539084], shape=(1,), dtype=float32)\n",
      "tf.Tensor([0.1689806], shape=(1,), dtype=float32)\n",
      "tf.Tensor([0.7539084], shape=(1,), dtype=float32)\n"
     ]
    }
   ],
   "source": [
    "tf.random.set_seed(1234)\n",
    "print(tf.random.uniform([1], seed=1))\n",
    "print(tf.random.uniform([1], seed=1))\n",
    "tf.random.set_seed(1234)\n",
    "print(tf.random.uniform([1], seed=1))\n",
    "print(tf.random.uniform([1], seed=1))"
   ]
  },
  {
   "cell_type": "code",
   "execution_count": 14,
   "id": "aa0280b1",
   "metadata": {},
   "outputs": [
    {
     "data": {
      "text/plain": [
       "(<tf.Tensor: shape=(2, 2), dtype=float32, numpy=\n",
       " array([[0.17115712, 0.6531501 ],\n",
       "        [0.8587817 , 0.874786  ]], dtype=float32)>,\n",
       " <tf.Tensor: shape=(2, 2), dtype=float32, numpy=\n",
       " array([[0.7144613 , 0.37347782],\n",
       "        [0.641343  , 0.10519004]], dtype=float32)>,\n",
       " <tf.Tensor: shape=(2, 2), dtype=float32, numpy=\n",
       " array([[0.2770716 , 0.5369843 ],\n",
       "        [0.34588027, 0.60669184]], dtype=float32)>,\n",
       " <tf.Tensor: shape=(2, 2), dtype=float32, numpy=\n",
       " array([[0.5720482 , 0.18713129],\n",
       "        [0.19723058, 0.462242  ]], dtype=float32)>,\n",
       " <tf.Tensor: shape=(2, 2), dtype=float32, numpy=\n",
       " array([[0.2036438 , 0.44336116],\n",
       "        [0.07702982, 0.71694434]], dtype=float32)>)"
      ]
     },
     "execution_count": 14,
     "metadata": {},
     "output_type": "execute_result"
    }
   ],
   "source": [
    "tf.random.set_seed(4029)\n",
    "\n",
    "tensor1 = tf.random.uniform(shape=(2,2), seed=7)\n",
    "tensor2 = tf.random.uniform(shape=(2,2), seed=7)\n",
    "tensor3 = tf.random.uniform(shape=(2,2), seed=7)\n",
    "tensor4 = tf.random.uniform(shape=(2,2), seed=7)\n",
    "tensor5 = tf.random.uniform(shape=(2,2), seed=7)\n",
    "\n",
    "tensor1, tensor2, tensor3, tensor4, tensor5"
   ]
  },
  {
   "cell_type": "code",
   "execution_count": null,
   "id": "ab258fff",
   "metadata": {},
   "outputs": [],
   "source": []
  }
 ],
 "metadata": {
  "kernelspec": {
   "display_name": "Python 3 (ipykernel)",
   "language": "python",
   "name": "python3"
  },
  "language_info": {
   "codemirror_mode": {
    "name": "ipython",
    "version": 3
   },
   "file_extension": ".py",
   "mimetype": "text/x-python",
   "name": "python",
   "nbconvert_exporter": "python",
   "pygments_lexer": "ipython3",
   "version": "3.10.6"
  }
 },
 "nbformat": 4,
 "nbformat_minor": 5
}
